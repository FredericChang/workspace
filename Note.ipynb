{
 "cells": [
  {
   "cell_type": "markdown",
   "metadata": {
    "collapsed": true,
    "pycharm": {
     "name": "#%% md\n"
    }
   },
   "source": [
    "\n",
    "# 分位數\n",
    "* 分位數（英語：Quantile），亦稱分位點，是指用分割點（cut point）將一個隨機變數的機率分布範圍分為幾個具有相同機率的連續區間。分割點的數量比劃分出的區間少1，例如3個分割點能分出4個區間。\n",
    "常用的有中位數（即二分位數）、四分位數（quartile）、十分位數（decile ）、百分位數等。q-quantile是指將有限值集分為q個接近相同尺寸的子集。"
   ]
  },
  {
   "cell_type": "markdown",
   "source": [
    "# 眾數\n",
    "* 對稱分布 => 均數 = 中位數 = 眾數\n",
    "* 左偏分布 => 均數 <= 中位數 <= 眾數\n",
    "* 右偏分布 => 均數 => 中位數 => 眾數\n"
   ],
   "metadata": {
    "collapsed": false,
    "pycharm": {
     "name": "#%% md\n"
    }
   }
  },
  {
   "cell_type": "markdown",
   "source": [
    "# 連續型數值標準化\n",
    "為何要標準化\n",
    "改變一單位的 x2 對 y 的影響完全不同\n",
    "是否一定要做標準化  (有沒有做有差嗎)\n",
    "\n",
    "看使用的模型而定\n",
    "\n",
    "Regression model：有差\n",
    "Tree-based model：沒有太大關係\n",
    "Requires little data preparation. Other techniques often require data normalization. Since trees can handle qualitative predictors, there is no need to create dummy variables."
   ],
   "metadata": {
    "collapsed": false,
    "pycharm": {
     "name": "#%% md\n"
    }
   },
   "outputs": [
    {
     "ename": "SyntaxError",
     "evalue": "invalid syntax (Temp/ipykernel_20848/1443531378.py, line 3)",
     "output_type": "error",
     "traceback": [
      "\u001B[1;36m  File \u001B[1;32m\"C:\\Users\\frede\\AppData\\Local\\Temp/ipykernel_20848/1443531378.py\"\u001B[1;36m, line \u001B[1;32m3\u001B[0m\n\u001B[1;33m    改變一單位的 x2 對 y 的影響完全不同\u001B[0m\n\u001B[1;37m           ^\u001B[0m\n\u001B[1;31mSyntaxError\u001B[0m\u001B[1;31m:\u001B[0m invalid syntax\n"
     ]
    }
   ],
   "execution_count": 1
  },
  {
   "cell_type": "markdown",
   "source": [],
   "metadata": {
    "collapsed": false,
    "pycharm": {
     "name": "#%% md\n"
    }
   }
  },
  {
   "cell_type": "markdown",
   "source": [
    "#Z轉換\n",
    "z Transform 用來將離散的數位訊號表示成複數指數函數的數學工具。以下討論 z transform，並用 z 轉換求 LTI 系統的轉換函式，並求零點與極點等參數，分析 LTI 系統的特性，最後說明反 z 轉換。\n",
    "\n",
    "Z轉換\n",
    "z轉換 源自 Laplace Transform (適用於分析連續時間域的函數)，適用於離散時間域 discrete time domain 的數位訊號分析。跟離散時間傅立葉轉換 DTFT 比較，z轉換提供更廣義的訊號表示法，可用來分析 DSP 系統的操作特性。\n",
    "\n",
    "DTFT 是針對絕對可加總序列(Absolute Summable Sequence) 進行轉換，僅適合用來分析穩定的 LTI 系統， z 轉換應用範圍較廣，也可分析不穩定的 LTI 系統。"
   ],
   "metadata": {
    "collapsed": false,
    "pycharm": {
     "name": "#%% md\n"
    }
   }
  }
 ],
 "metadata": {
  "kernelspec": {
   "display_name": "Python 3",
   "language": "python",
   "name": "python3"
  },
  "language_info": {
   "codemirror_mode": {
    "name": "ipython",
    "version": 2
   },
   "file_extension": ".py",
   "mimetype": "text/x-python",
   "name": "python",
   "nbconvert_exporter": "python",
   "pygments_lexer": "ipython2",
   "version": "2.7.6"
  }
 },
 "nbformat": 4,
 "nbformat_minor": 0
}