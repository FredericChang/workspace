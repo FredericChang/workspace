{
 "cells": [
  {
   "cell_type": "markdown",
   "metadata": {
    "collapsed": true,
    "pycharm": {
     "name": "#%% md\n"
    }
   },
   "source": [
    "\n",
    "# 分位數\n",
    "* 分位數（英語：Quantile），亦稱分位點，是指用分割點（cut point）將一個隨機變數的機率分布範圍分為幾個具有相同機率的連續區間。分割點的數量比劃分出的區間少1，例如3個分割點能分出4個區間。\n",
    "常用的有中位數（即二分位數）、四分位數（quartile）、十分位數（decile ）、百分位數等。q-quantile是指將有限值集分為q個接近相同尺寸的子集。"
   ]
  },
  {
   "cell_type": "markdown",
   "source": [
    "# 眾數\n",
    "* 對稱分布 => 均數 = 中位數 = 眾數\n",
    "* 左偏分布 => 均數 <= 中位數 <= 眾數\n",
    "* 右偏分布 => 均數 => 中位數 => 眾數\n"
   ],
   "metadata": {
    "collapsed": false,
    "pycharm": {
     "name": "#%% md\n"
    }
   }
  },
  {
   "cell_type": "markdown",
   "source": [
    "# 連續型數值標準化\n",
    "為何要標準化\n",
    "改變一單位的 x2 對 y 的影響完全不同\n",
    "是否一定要做標準化  (有沒有做有差嗎)\n",
    "\n",
    "看使用的模型而定\n",
    "\n",
    "Regression model：有差\n",
    "Tree-based model：沒有太大關係\n",
    "Requires little data preparation. Other techniques often require data normalization. Since trees can handle qualitative predictors, there is no need to create dummy variables."
   ],
   "metadata": {
    "collapsed": false,
    "pycharm": {
     "name": "#%% md\n"
    }
   },
   "outputs": [
    {
     "ename": "SyntaxError",
     "evalue": "invalid syntax (Temp/ipykernel_20848/1443531378.py, line 3)",
     "output_type": "error",
     "traceback": [
      "\u001B[1;36m  File \u001B[1;32m\"C:\\Users\\frede\\AppData\\Local\\Temp/ipykernel_20848/1443531378.py\"\u001B[1;36m, line \u001B[1;32m3\u001B[0m\n\u001B[1;33m    改變一單位的 x2 對 y 的影響完全不同\u001B[0m\n\u001B[1;37m           ^\u001B[0m\n\u001B[1;31mSyntaxError\u001B[0m\u001B[1;31m:\u001B[0m invalid syntax\n"
     ]
    }
   ],
   "execution_count": 1
  },
  {
   "cell_type": "markdown",
   "source": [],
   "metadata": {
    "collapsed": false,
    "pycharm": {
     "name": "#%% md\n"
    }
   }
  },
  {
   "cell_type": "markdown",
   "source": [
    "#Z轉換\n",
    "z Transform 用來將離散的數位訊號表示成複數指數函數的數學工具。以下討論 z transform，並用 z 轉換求 LTI 系統的轉換函式，並求零點與極點等參數，分析 LTI 系統的特性，最後說明反 z 轉換。\n",
    "\n",
    "Z轉換\n",
    "z轉換 源自 Laplace Transform (適用於分析連續時間域的函數)，適用於離散時間域 discrete time domain 的數位訊號分析。跟離散時間傅立葉轉換 DTFT 比較，z轉換提供更廣義的訊號表示法，可用來分析 DSP 系統的操作特性。\n",
    "\n",
    "DTFT 是針對絕對可加總序列(Absolute Summable Sequence) 進行轉換，僅適合用來分析穩定的 LTI 系統， z 轉換應用範圍較廣，也可分析不穩定的 LTI 系統。"
   ],
   "metadata": {
    "collapsed": false,
    "pycharm": {
     "name": "#%% md\n"
    }
   }
  },
  {
   "cell_type": "markdown",
   "source": [
    "# 評估\n",
    "如果數值區間太大 會影響分析的數值\n",
    "標準化 : 以合理的方式，平衡特徵間的影響力\n",
    "此處範例為 「最大最小化 ，一般常用的方法還有標準化」\n",
    "標準化 (Standard Scaler) : 假定數值為常態分佈，適合本方式平衡特徵\n",
    "最小最大化 (MinMax Scaler) : 假定數值為均勻分佈，適合本方式平衡特徵"
   ],
   "metadata": {
    "collapsed": false,
    "pycharm": {
     "name": "#%% md\n"
    }
   }
  },
  {
   "cell_type": "markdown",
   "source": [
    "# 標準化 / 最小最大化適用場合\n",
    "樹狀模型或非樹狀模型(參考今日練習題)\n",
    "非樹狀模型 : 如線性迴歸, 羅吉斯迴歸, 類神經...等，標準化 / 最小最大化後對預測會有影響\n",
    "樹狀模型 : 如決策樹, 隨機森林, 梯度提升樹...等，標準化 / 最小最大化後對預測不會有影響\n",
    "標準化 / 最小最大化 使用上的差異\n",
    "標準化 : 轉換不易受到極端值影響\n",
    "最小最大化 : 轉換容易受到極端值影響\n",
    "註 : 因此，去過離群值的特徵，比較適用最大最小化"
   ],
   "metadata": {
    "collapsed": false,
    "pycharm": {
     "name": "#%% md\n"
    }
   }
  },
  {
   "cell_type": "markdown",
   "source": [
    "# 羅吉斯迴歸分析(Logistic regression, logit model)\n",
    "https://www.yongxi-stat.com/logistic-regression/\n",
    "https://www.juliansweb.com/regression/logistic-regression"
   ],
   "metadata": {
    "collapsed": false,
    "pycharm": {
     "name": "#%% md\n"
    }
   }
  },
  {
   "cell_type": "markdown",
   "source": [
    "# 最小平方法與迴歸分析\n",
    "https://web.math.sinica.edu.tw/mathmedia/HTMLarticle18.jsp?mID=41303"
   ],
   "metadata": {
    "collapsed": false,
    "pycharm": {
     "name": "#%% md\n"
    }
   }
  },
  {
   "cell_type": "markdown",
   "source": [
    "需要了解正負相關的重要性\n",
    "可以先找出對TARGET的正負相關 然後再透過圖形來顯示出結果\n",
    "1. 採用無母數方法畫出一個觀察變數的機率密度函數\n",
    "\n",
    "某個 X 出現的機率為何\n",
    "\n",
    "\n",
    "2. Density plot 的特性\n",
    "\n",
    "歸一：線下面積和為 1\n",
    "對稱：K(-u) = K(u)\n",
    "\n",
    "\n",
    "3. 常用的 Kernel function\n",
    "\n",
    "Gaussian (Normal dist)\n",
    "Cosine"
   ],
   "metadata": {
    "collapsed": false,
    "pycharm": {
     "name": "#%% md\n"
    }
   }
  },
  {
   "cell_type": "markdown",
   "source": [
    "# KDE 的優點與缺點\n",
    "KDE 的優點與缺點\n",
    "優：無母數方法，對分布沒有假設 (使用上不需擔心是否有一些常見的特定假設，如分布為常態)\n",
    "缺：計算量大，電腦不好可能跑不動\n",
    "透過 KDE plot，我們可以較為清楚的看到不同組間的分布差異"
   ],
   "metadata": {
    "collapsed": false,
    "pycharm": {
     "name": "#%% md\n"
    }
   }
  },
  {
   "cell_type": "markdown",
   "source": [
    "#綜合建議\n",
    "\n",
    "非深度學習時，類別型特徵建議預設採標籤編碼 ; 深度學習時，預設採獨熱編碼\n",
    "因非深度學習時主要是樹狀模型 (隨機森林 / 梯度提升樹等基於決策樹的模型)，用兩次門檻就能分隔關鍵類別 ; 但深度學習主要依賴倒傳遞，標籤編碼會不易收斂"
   ],
   "metadata": {
    "collapsed": false,
    "pycharm": {
     "name": "#%% md\n"
    }
   }
  },
  {
   "cell_type": "code",
   "execution_count": null,
   "outputs": [],
   "source": [],
   "metadata": {
    "collapsed": false,
    "pycharm": {
     "name": "#%%\n"
    }
   }
  }
 ],
 "metadata": {
  "kernelspec": {
   "display_name": "Python 3",
   "language": "python",
   "name": "python3"
  },
  "language_info": {
   "codemirror_mode": {
    "name": "ipython",
    "version": 2
   },
   "file_extension": ".py",
   "mimetype": "text/x-python",
   "name": "python",
   "nbconvert_exporter": "python",
   "pygments_lexer": "ipython2",
   "version": "2.7.6"
  }
 },
 "nbformat": 4,
 "nbformat_minor": 0
}