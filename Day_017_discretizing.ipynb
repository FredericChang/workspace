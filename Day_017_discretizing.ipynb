{
 "cells": [
  {
   "cell_type": "markdown",
   "metadata": {
    "collapsed": true
   },
   "source": [
    "# [教學目標]\n",
    "- 以下程式碼將示範在 python 如何利用 pandas.cut 與 .qcut 計算出數據的離散化標籤"
   ]
  },
  {
   "cell_type": "markdown",
   "metadata": {
    "collapsed": true
   },
   "source": [
    "# [範例重點]\n",
    "- pandas.cut 的等寬劃分效果 (In[3], Out[4])\n",
    "- pandas.qcut 的等頻劃分效果 (In[5], Out[6])"
   ]
  },
  {
   "cell_type": "code",
   "execution_count": 17,
   "metadata": {
    "collapsed": true
   },
   "outputs": [],
   "source": [
    "# 載入套件\n",
    "import os\n",
    "import numpy as np\n",
    "import pandas as pd\n",
    "\n",
    "import matplotlib.pyplot as plt\n",
    "%matplotlib inline"
   ]
  },
  {
   "cell_type": "code",
   "execution_count": 18,
   "metadata": {
    "collapsed": true
   },
   "outputs": [],
   "source": [
    "# 初始設定 Ages 的資料\n",
    "ages = pd.DataFrame({\"age\": [18,22,25,27,7,21,23,37,30,61,45,41,9,18,80,100]})"
   ]
  },
  {
   "cell_type": "markdown",
   "metadata": {},
   "source": [
    "#### 等寬劃分"
   ]
  },
  {
   "cell_type": "code",
   "execution_count": 19,
   "metadata": {
    "collapsed": true
   },
   "outputs": [],
   "source": [
    "# 新增欄位 \"equal_width_age\", 對年齡做等寬劃分\n",
    "ages[\"equal_width_age\"] = pd.cut(ages[\"age\"], 4)"
   ]
  },
  {
   "cell_type": "code",
   "execution_count": 20,
   "metadata": {},
   "outputs": [
    {
     "data": {
      "text/plain": "(6.907, 30.25]    10\n(30.25, 53.5]      3\n(76.75, 100.0]     2\n(53.5, 76.75]      1\nName: equal_width_age, dtype: int64"
     },
     "execution_count": 20,
     "metadata": {},
     "output_type": "execute_result"
    }
   ],
   "source": [
    "# 觀察等寬劃分下, 每個種組距各出現幾次\n",
    "ages[\"equal_width_age\"].value_counts() # 每個 bin 的值的範圍大小都是一樣的"
   ]
  },
  {
   "cell_type": "markdown",
   "metadata": {},
   "source": [
    "#### 等頻劃分"
   ]
  },
  {
   "cell_type": "code",
   "execution_count": 21,
   "metadata": {
    "collapsed": true
   },
   "outputs": [],
   "source": [
    "# 新增欄位 \"equal_freq_age\", 對年齡做等頻劃分\n",
    "ages[\"equal_freq_age\"] = pd.qcut(ages[\"age\"], 4)"
   ]
  },
  {
   "cell_type": "code",
   "execution_count": 22,
   "metadata": {},
   "outputs": [
    {
     "data": {
      "text/plain": "(6.999, 20.25]    4\n(20.25, 26.0]     4\n(26.0, 42.0]      4\n(42.0, 100.0]     4\nName: equal_freq_age, dtype: int64"
     },
     "execution_count": 22,
     "metadata": {},
     "output_type": "execute_result"
    }
   ],
   "source": [
    "# 觀察等頻劃分下, 每個種組距各出現幾次\n",
    "ages[\"equal_freq_age\"].value_counts() # 每個 bin 的資料筆數是一樣的"
   ]
  },
  {
   "cell_type": "markdown",
   "metadata": {},
   "source": [
    "### 作業\n",
    "新增一個欄位 `customized_age_grp`，把 `age` 分為 (0, 10], (10, 20], (20, 30], (30, 50], (50, 100] 這五組，'(' 表示不包含, ']' 表示包含\n",
    "\n",
    "Hints: 執行 ??pd.cut()，了解提供其中 bins 這個參數的使用方式"
   ]
  },
  {
   "cell_type": "code",
   "execution_count": 23,
   "metadata": {
    "collapsed": true
   },
   "outputs": [],
   "source": [
    "agess = pd.DataFrame({\"age\": [18,22,25,27,7,21,23,37,30,61,45,41,9,18,80,100]})\n",
    "bin_cut = np.linspace(0, 100, num = 11)\n",
    "agess[\"equal_width_age\"] = pd.cut(ages[\"age\"], bins=bin_cut)"
   ]
  },
  {
   "cell_type": "code",
   "execution_count": 24,
   "outputs": [
    {
     "data": {
      "text/plain": "(20.0, 30.0]     6\n(0.0, 10.0]      2\n(10.0, 20.0]     2\n(40.0, 50.0]     2\n(30.0, 40.0]     1\n(60.0, 70.0]     1\n(70.0, 80.0]     1\n(90.0, 100.0]    1\n(50.0, 60.0]     0\n(80.0, 90.0]     0\nName: equal_width_age, dtype: int64"
     },
     "execution_count": 24,
     "metadata": {},
     "output_type": "execute_result"
    }
   ],
   "source": [
    "agess[\"equal_width_age\"].value_counts()"
   ],
   "metadata": {
    "collapsed": false,
    "pycharm": {
     "name": "#%%\n"
    }
   }
  },
  {
   "cell_type": "code",
   "execution_count": 26,
   "outputs": [],
   "source": [
    "ages[\"customized_age_grp\"] = pd.cut(ages[\"age\"], [0, 10, 20, 30, 50, 100])"
   ],
   "metadata": {
    "collapsed": false,
    "pycharm": {
     "name": "#%%\n"
    }
   }
  },
  {
   "cell_type": "code",
   "execution_count": 27,
   "outputs": [
    {
     "data": {
      "text/plain": "    age equal_width_age  equal_freq_age customized_age_grp\n0    18  (6.907, 30.25]  (6.999, 20.25]           (10, 20]\n1    22  (6.907, 30.25]   (20.25, 26.0]           (20, 30]\n2    25  (6.907, 30.25]   (20.25, 26.0]           (20, 30]\n3    27  (6.907, 30.25]    (26.0, 42.0]           (20, 30]\n4     7  (6.907, 30.25]  (6.999, 20.25]            (0, 10]\n5    21  (6.907, 30.25]   (20.25, 26.0]           (20, 30]\n6    23  (6.907, 30.25]   (20.25, 26.0]           (20, 30]\n7    37   (30.25, 53.5]    (26.0, 42.0]           (30, 50]\n8    30  (6.907, 30.25]    (26.0, 42.0]           (20, 30]\n9    61   (53.5, 76.75]   (42.0, 100.0]          (50, 100]\n10   45   (30.25, 53.5]   (42.0, 100.0]           (30, 50]\n11   41   (30.25, 53.5]    (26.0, 42.0]           (30, 50]\n12    9  (6.907, 30.25]  (6.999, 20.25]            (0, 10]\n13   18  (6.907, 30.25]  (6.999, 20.25]           (10, 20]\n14   80  (76.75, 100.0]   (42.0, 100.0]          (50, 100]\n15  100  (76.75, 100.0]   (42.0, 100.0]          (50, 100]",
      "text/html": "<div>\n<style scoped>\n    .dataframe tbody tr th:only-of-type {\n        vertical-align: middle;\n    }\n\n    .dataframe tbody tr th {\n        vertical-align: top;\n    }\n\n    .dataframe thead th {\n        text-align: right;\n    }\n</style>\n<table border=\"1\" class=\"dataframe\">\n  <thead>\n    <tr style=\"text-align: right;\">\n      <th></th>\n      <th>age</th>\n      <th>equal_width_age</th>\n      <th>equal_freq_age</th>\n      <th>customized_age_grp</th>\n    </tr>\n  </thead>\n  <tbody>\n    <tr>\n      <th>0</th>\n      <td>18</td>\n      <td>(6.907, 30.25]</td>\n      <td>(6.999, 20.25]</td>\n      <td>(10, 20]</td>\n    </tr>\n    <tr>\n      <th>1</th>\n      <td>22</td>\n      <td>(6.907, 30.25]</td>\n      <td>(20.25, 26.0]</td>\n      <td>(20, 30]</td>\n    </tr>\n    <tr>\n      <th>2</th>\n      <td>25</td>\n      <td>(6.907, 30.25]</td>\n      <td>(20.25, 26.0]</td>\n      <td>(20, 30]</td>\n    </tr>\n    <tr>\n      <th>3</th>\n      <td>27</td>\n      <td>(6.907, 30.25]</td>\n      <td>(26.0, 42.0]</td>\n      <td>(20, 30]</td>\n    </tr>\n    <tr>\n      <th>4</th>\n      <td>7</td>\n      <td>(6.907, 30.25]</td>\n      <td>(6.999, 20.25]</td>\n      <td>(0, 10]</td>\n    </tr>\n    <tr>\n      <th>5</th>\n      <td>21</td>\n      <td>(6.907, 30.25]</td>\n      <td>(20.25, 26.0]</td>\n      <td>(20, 30]</td>\n    </tr>\n    <tr>\n      <th>6</th>\n      <td>23</td>\n      <td>(6.907, 30.25]</td>\n      <td>(20.25, 26.0]</td>\n      <td>(20, 30]</td>\n    </tr>\n    <tr>\n      <th>7</th>\n      <td>37</td>\n      <td>(30.25, 53.5]</td>\n      <td>(26.0, 42.0]</td>\n      <td>(30, 50]</td>\n    </tr>\n    <tr>\n      <th>8</th>\n      <td>30</td>\n      <td>(6.907, 30.25]</td>\n      <td>(26.0, 42.0]</td>\n      <td>(20, 30]</td>\n    </tr>\n    <tr>\n      <th>9</th>\n      <td>61</td>\n      <td>(53.5, 76.75]</td>\n      <td>(42.0, 100.0]</td>\n      <td>(50, 100]</td>\n    </tr>\n    <tr>\n      <th>10</th>\n      <td>45</td>\n      <td>(30.25, 53.5]</td>\n      <td>(42.0, 100.0]</td>\n      <td>(30, 50]</td>\n    </tr>\n    <tr>\n      <th>11</th>\n      <td>41</td>\n      <td>(30.25, 53.5]</td>\n      <td>(26.0, 42.0]</td>\n      <td>(30, 50]</td>\n    </tr>\n    <tr>\n      <th>12</th>\n      <td>9</td>\n      <td>(6.907, 30.25]</td>\n      <td>(6.999, 20.25]</td>\n      <td>(0, 10]</td>\n    </tr>\n    <tr>\n      <th>13</th>\n      <td>18</td>\n      <td>(6.907, 30.25]</td>\n      <td>(6.999, 20.25]</td>\n      <td>(10, 20]</td>\n    </tr>\n    <tr>\n      <th>14</th>\n      <td>80</td>\n      <td>(76.75, 100.0]</td>\n      <td>(42.0, 100.0]</td>\n      <td>(50, 100]</td>\n    </tr>\n    <tr>\n      <th>15</th>\n      <td>100</td>\n      <td>(76.75, 100.0]</td>\n      <td>(42.0, 100.0]</td>\n      <td>(50, 100]</td>\n    </tr>\n  </tbody>\n</table>\n</div>"
     },
     "execution_count": 27,
     "metadata": {},
     "output_type": "execute_result"
    }
   ],
   "source": [
    "ages"
   ],
   "metadata": {
    "collapsed": false,
    "pycharm": {
     "name": "#%%\n"
    }
   }
  },
  {
   "cell_type": "code",
   "execution_count": null,
   "outputs": [],
   "source": [],
   "metadata": {
    "collapsed": false,
    "pycharm": {
     "name": "#%%\n"
    }
   }
  }
 ],
 "metadata": {
  "kernelspec": {
   "display_name": "Python 3",
   "language": "python",
   "name": "python3"
  },
  "language_info": {
   "codemirror_mode": {
    "name": "ipython",
    "version": 3
   },
   "file_extension": ".py",
   "mimetype": "text/x-python",
   "name": "python",
   "nbconvert_exporter": "python",
   "pygments_lexer": "ipython3",
   "version": "3.7.0"
  }
 },
 "nbformat": 4,
 "nbformat_minor": 2
}