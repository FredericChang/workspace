{
 "cells": [
  {
   "cell_type": "code",
   "execution_count": 214,
   "metadata": {
    "collapsed": true
   },
   "outputs": [
    {
     "data": {
      "text/plain": "        Entity Code  Year  Annual CO2 emissions\n0  Afghanistan  AFG  1949                 14656\n1  Afghanistan  AFG  1950                 84272\n2  Afghanistan  AFG  1951                 91600\n3  Afghanistan  AFG  1952                 91600\n4  Afghanistan  AFG  1953                106256",
      "text/html": "<div>\n<style scoped>\n    .dataframe tbody tr th:only-of-type {\n        vertical-align: middle;\n    }\n\n    .dataframe tbody tr th {\n        vertical-align: top;\n    }\n\n    .dataframe thead th {\n        text-align: right;\n    }\n</style>\n<table border=\"1\" class=\"dataframe\">\n  <thead>\n    <tr style=\"text-align: right;\">\n      <th></th>\n      <th>Entity</th>\n      <th>Code</th>\n      <th>Year</th>\n      <th>Annual CO2 emissions</th>\n    </tr>\n  </thead>\n  <tbody>\n    <tr>\n      <th>0</th>\n      <td>Afghanistan</td>\n      <td>AFG</td>\n      <td>1949</td>\n      <td>14656</td>\n    </tr>\n    <tr>\n      <th>1</th>\n      <td>Afghanistan</td>\n      <td>AFG</td>\n      <td>1950</td>\n      <td>84272</td>\n    </tr>\n    <tr>\n      <th>2</th>\n      <td>Afghanistan</td>\n      <td>AFG</td>\n      <td>1951</td>\n      <td>91600</td>\n    </tr>\n    <tr>\n      <th>3</th>\n      <td>Afghanistan</td>\n      <td>AFG</td>\n      <td>1952</td>\n      <td>91600</td>\n    </tr>\n    <tr>\n      <th>4</th>\n      <td>Afghanistan</td>\n      <td>AFG</td>\n      <td>1953</td>\n      <td>106256</td>\n    </tr>\n  </tbody>\n</table>\n</div>"
     },
     "execution_count": 214,
     "metadata": {},
     "output_type": "execute_result"
    }
   ],
   "source": [
    "# 做完特徵工程前的所有準備\n",
    "import numpy as np\n",
    "import pandas as pd\n",
    "import matplotlib.pyplot as plt\n",
    "from matplotlib.dates import date2num\n",
    "import datetime\n",
    "import seaborn as sns # 另一個繪圖-樣式套件\n",
    "%matplotlib inline\n",
    "\n",
    "# 忽略警告訊息\n",
    "import warnings\n",
    "warnings.filterwarnings('ignore')\n",
    "import numpy as np\n",
    "import copy\n",
    "# from sklearn.preprocessing import LabelEncoder, MinMaxScaler\n",
    "# from sklearn.linear_model import LogisticRegression\n",
    "# from sklearn.ensemble import GradientBoostingClassifier\n",
    "# # 因為擬合(fit)與編碼(transform)需要分開, 因此不使用.get_dummy, 而採用 sklearn 的 OneHotEncoder\n",
    "# from sklearn.preprocessing import OneHotEncoder\n",
    "# from sklearn.model_selection import train_test_split\n",
    "# from sklearn.metrics import roc_curve\n",
    "\n",
    "data_path = 'D:\\CodeProject\\ML\\\\'\n",
    "df = pd.read_csv(data_path + 'annual-co2-emissions-per-country (1).csv')\n",
    "df2 = pd.read_csv(data_path + '110-tavg-12-12-1895-2020.csv')\n",
    "\n",
    "df.head()"
   ]
  },
  {
   "cell_type": "code",
   "execution_count": 215,
   "outputs": [
    {
     "data": {
      "text/plain": "(23949, 4)"
     },
     "execution_count": 215,
     "metadata": {},
     "output_type": "execute_result"
    }
   ],
   "source": [
    "df.shape"
   ],
   "metadata": {
    "collapsed": false,
    "pycharm": {
     "name": "#%%\n"
    }
   }
  },
  {
   "cell_type": "code",
   "execution_count": 216,
   "outputs": [],
   "source": [
    "df['Year'] =  df['Year'].astype(int)\n",
    "df['Annual CO2 emissions'] = df['Annual CO2 emissions'].astype(float)"
   ],
   "metadata": {
    "collapsed": false,
    "pycharm": {
     "name": "#%%\n"
    }
   }
  },
  {
   "cell_type": "code",
   "execution_count": 217,
   "outputs": [
    {
     "name": "stdout",
     "output_type": "stream",
     "text": [
      "Year: 1980  Total Annual CO2 emissions: 76976515724.0\n",
      "Year: 1981  Total Annual CO2 emissions: 75014306964.0\n",
      "Year: 1982  Total Annual CO2 emissions: 74497847815.0\n",
      "Year: 1983  Total Annual CO2 emissions: 74918676782.0\n",
      "Year: 1984  Total Annual CO2 emissions: 77135656752.0\n",
      "Year: 1985  Total Annual CO2 emissions: 79876908366.0\n",
      "Year: 1986  Total Annual CO2 emissions: 80843757464.0\n",
      "Year: 1987  Total Annual CO2 emissions: 82788031621.0\n",
      "Year: 1988  Total Annual CO2 emissions: 85631218083.0\n",
      "Year: 1989  Total Annual CO2 emissions: 86621767754.0\n",
      "Year: 1990  Total Annual CO2 emissions: 88194825624.0\n",
      "Year: 1991  Total Annual CO2 emissions: 88759487297.0\n",
      "Year: 1992  Total Annual CO2 emissions: 86107543538.0\n",
      "Year: 1993  Total Annual CO2 emissions: 86353214293.0\n",
      "Year: 1994  Total Annual CO2 emissions: 86236263976.0\n",
      "Year: 1995  Total Annual CO2 emissions: 87648421404.0\n",
      "Year: 1996  Total Annual CO2 emissions: 89953573953.0\n",
      "Year: 1997  Total Annual CO2 emissions: 90055544500.0\n",
      "Year: 1998  Total Annual CO2 emissions: 89566127989.0\n",
      "Year: 1999  Total Annual CO2 emissions: 90524425606.0\n",
      "Year: 2000  Total Annual CO2 emissions: 92998024618.0\n",
      "Year: 2001  Total Annual CO2 emissions: 93999374194.0\n",
      "Year: 2002  Total Annual CO2 emissions: 95821331718.0\n",
      "Year: 2003  Total Annual CO2 emissions: 100340412516.0\n",
      "Year: 2004  Total Annual CO2 emissions: 104330577672.0\n",
      "Year: 2005  Total Annual CO2 emissions: 107354786250.0\n",
      "Year: 2006  Total Annual CO2 emissions: 110616403288.0\n",
      "Year: 2007  Total Annual CO2 emissions: 113346854806.0\n",
      "Year: 2008  Total Annual CO2 emissions: 115021012719.0\n",
      "Year: 2009  Total Annual CO2 emissions: 112661077182.0\n",
      "Year: 2010  Total Annual CO2 emissions: 118593918603.0\n",
      "Year: 2011  Total Annual CO2 emissions: 122025586539.0\n",
      "Year: 2012  Total Annual CO2 emissions: 123738516592.0\n",
      "Year: 2013  Total Annual CO2 emissions: 124342031236.0\n",
      "Year: 2014  Total Annual CO2 emissions: 124746835874.0\n",
      "Year: 2015  Total Annual CO2 emissions: 124780502322.0\n",
      "Year: 2016  Total Annual CO2 emissions: 124705642926.0\n",
      "Year: 2017  Total Annual CO2 emissions: 126304712027.0\n",
      "Year: 2018  Total Annual CO2 emissions: 128452535469.0\n",
      "Year: 2019  Total Annual CO2 emissions: 128422888228.0\n",
      "Year: 2020  Total Annual CO2 emissions: 121592752041.0\n"
     ]
    }
   ],
   "source": [
    "df = df.loc[df[\"Year\"] >= 1980]\n",
    "\n",
    "age_data = df[['Year', 'Annual CO2 emissions']]\n",
    "\n",
    "s = age_data['Annual CO2 emissions'].sum()\n",
    "num_features = []\n",
    "data = ['Year', 'Annual CO2 emissions']\n",
    "dfg= pd.DataFrame(columns= ['Year', 'Annual CO2 emissions'])\n",
    "for x in range(1980, 2021):\n",
    "\n",
    "    dfz = age_data.loc[df[\"Year\"] == x]\n",
    "    ss = dfz['Annual CO2 emissions'].sum()\n",
    "    dfg = dfg.append({'Year': int(x), 'Annual CO2 emissions':ss}, ignore_index=True)\n",
    "    # print(ss)\n",
    "    # num_features.append(ss)\n",
    "    print(\"Year: \"  + str(x) + \"  Total Annual CO2 emissions: \" + str(ss))\n",
    "\n",
    "dfg['Year'] = abs(dfg['Year'])\n",
    "\n",
    "# for i in age_data:\n",
    "#     if age_data[i] == '1980':\n",
    "#         x = age_data['Annual CO2 emissions'].sum()\n",
    "#         num_features.append(x)\n",
    "# num_features = []\n",
    "# for dtype, feature in zip(age_data.dtypes, age_data.columns):\n",
    "#     if dtype == 'float':\n",
    "#         num_features.append(feature)\n",
    "# print(f'{len(num_features)} Numeric Features : {num_features}\\n')\n"
   ],
   "metadata": {
    "collapsed": false,
    "pycharm": {
     "name": "#%%\n"
    }
   }
  },
  {
   "cell_type": "code",
   "execution_count": 218,
   "outputs": [
    {
     "data": {
      "text/plain": "     Year  Annual CO2 emissions  Value\n0  1980.0             76.976516  52.39\n1  1981.0             75.014307  53.12\n2  1982.0             74.497848  51.34\n3  1983.0             74.918677  51.88\n4  1984.0             77.135657  51.97",
      "text/html": "<div>\n<style scoped>\n    .dataframe tbody tr th:only-of-type {\n        vertical-align: middle;\n    }\n\n    .dataframe tbody tr th {\n        vertical-align: top;\n    }\n\n    .dataframe thead th {\n        text-align: right;\n    }\n</style>\n<table border=\"1\" class=\"dataframe\">\n  <thead>\n    <tr style=\"text-align: right;\">\n      <th></th>\n      <th>Year</th>\n      <th>Annual CO2 emissions</th>\n      <th>Value</th>\n    </tr>\n  </thead>\n  <tbody>\n    <tr>\n      <th>0</th>\n      <td>1980.0</td>\n      <td>76.976516</td>\n      <td>52.39</td>\n    </tr>\n    <tr>\n      <th>1</th>\n      <td>1981.0</td>\n      <td>75.014307</td>\n      <td>53.12</td>\n    </tr>\n    <tr>\n      <th>2</th>\n      <td>1982.0</td>\n      <td>74.497848</td>\n      <td>51.34</td>\n    </tr>\n    <tr>\n      <th>3</th>\n      <td>1983.0</td>\n      <td>74.918677</td>\n      <td>51.88</td>\n    </tr>\n    <tr>\n      <th>4</th>\n      <td>1984.0</td>\n      <td>77.135657</td>\n      <td>51.97</td>\n    </tr>\n  </tbody>\n</table>\n</div>"
     },
     "execution_count": 218,
     "metadata": {},
     "output_type": "execute_result"
    }
   ],
   "source": [
    "dfg['Annual CO2 emissions'] = dfg['Annual CO2 emissions'] / 1000000000\n",
    "# dfg.astype('int32')\n",
    "dfg = abs(dfg)\n",
    "numbers = df2[\"Value\"]\n",
    "dfg = dfg.join(numbers)\n",
    "dfg.head(5)"
   ],
   "metadata": {
    "collapsed": false,
    "pycharm": {
     "name": "#%%\n"
    }
   }
  },
  {
   "cell_type": "code",
   "execution_count": 219,
   "outputs": [
    {
     "data": {
      "text/plain": "<Figure size 432x288 with 1 Axes>",
      "image/png": "[encoded data removed]"
     },
     "metadata": {
      "needs_background": "light"
     },
     "output_type": "display_data"
    }
   ],
   "source": [
    "# 以生存年數繪製分布圖\n",
    "# figure, axis = plt.subplots(1, 1)\n",
    "xx = dfg['Year']\n",
    "height = dfg['Annual CO2 emissions']\n",
    "height2 = dfg['Value']\n",
    "# widthValue= 0.3\n",
    "\n",
    "plt.ylim(70,135)\n",
    "plt.axhline(height.mean(), color='blue', linewidth = 2)\n",
    "plt.axhline(height.max(), color='black', linewidth = 2)\n",
    "plt.axhline(height.min(), color='black', linewidth = 2)\n",
    "plt.text(1990, height.mean(), '1980-2020 Mean:99.80M', fontsize=12, va='center', ha='center', backgroundcolor='w')\n",
    "plt.text(2010, height.min(), '1980-2020 Mean:74.49M', fontsize=12, va='center', ha='center', backgroundcolor='w')\n",
    "plt.text(1990, height.max(), '1980-2020 Max:128M', fontsize=12, va='center', ha='center', backgroundcolor='w')\n",
    "\n",
    "plt.bar(xx, height, color='b')\n",
    "# plt.bar(xx+0.3, height2, width= widthValue , color='r')\n",
    "plt.title('World Annual CO2 emissions 1980-2020')\n",
    "plt.xlabel('Year', fontsize = 12)\n",
    "plt.ylabel('Annual CO2 emissions (1M/per Unit)', fontsize = 12)\n",
    "plt.xticks(fontsize = 9)\n",
    "plt.yticks(fontsize = 9)\n",
    "# plt.xaxis_date()\n",
    "# plt.autoscale(tight=True)\n",
    "# plt.grid(linestyle= '-.', linewidth = 0.3)\n",
    "plt.savefig('D:\\\\MS\\\\World Annual CO2 emissions.png', dpi = 600)\n",
    "plt.show()\n",
    "\n",
    "# https://stackoverflow.com/questions/27709992/average-line-for-bar-chart-in-matplotlib\n",
    "    \n",
    "# # 改變繪圖樣式 (style)\n",
    "# plt.style.use('ggplot')\n",
    "#\n",
    "# # 改變樣式後再繪圖一次, 比較效果\n",
    "# plt.hist(app_train['DAYS_BIRTH'] / 365, edgecolor = 'k', bins = 25)\n",
    "# plt.title('Age of Client'); plt.xlabel('Age (years)'); plt.ylabel('Count');\n",
    "# plt.show()"
   ],
   "metadata": {
    "collapsed": false,
    "pycharm": {
     "name": "#%%\n"
    }
   }
  },
  {
   "cell_type": "code",
   "execution_count": 220,
   "outputs": [
    {
     "data": {
      "text/plain": "count     41.000000\nmean      99.802436\nstd       18.197240\nmin       74.497848\n25%       86.236264\n50%       92.998025\n75%      118.593919\nmax      128.452535\nName: Annual CO2 emissions, dtype: float64"
     },
     "execution_count": 220,
     "metadata": {},
     "output_type": "execute_result"
    }
   ],
   "source": [
    "height.describe()"
   ],
   "metadata": {
    "collapsed": false,
    "pycharm": {
     "name": "#%%\n"
    }
   }
  },
  {
   "cell_type": "code",
   "execution_count": 221,
   "outputs": [
    {
     "data": {
      "text/plain": "<Figure size 432x288 with 1 Axes>",
      "image/png": "[encoded data removed]"
     },
     "metadata": {
      "needs_background": "light"
     },
     "output_type": "display_data"
    }
   ],
   "source": [
    "plt.ylim(51.1,57)\n",
    "plt.axhline(height2.mean(), color='blue', linewidth = 2)\n",
    "plt.text(1993, height2.mean(), '1980-2020 Mean:53.04°F', fontsize=12, va='center', ha='center', backgroundcolor='w')\n",
    "plt.text(1993, 52.02, '1901-2000 Mean:52.02°F', fontsize=12, va='center', ha='center', backgroundcolor='w')\n",
    "plt.text(1993, height2.max(), '1901-2000 Max:55.28°F', fontsize=12, va='center', ha='center', backgroundcolor='w')\n",
    "\n",
    "plt.axhline(52.02, color='black', linewidth = 2)\n",
    "plt.axhline(55.28, color='black', linewidth = 2)\n",
    "\n",
    "plt.bar(xx, height2, color = 'r')\n",
    "\n",
    "# plt.bar(xx+0.3, height2, width= widthValue , color='r')\n",
    "plt.title('World Average Temperature 1980-2020')\n",
    "plt.xlabel('Year', fontsize = 12)\n",
    "plt.ylabel('Temperature(°F)', fontsize = 12)\n",
    "plt.xticks(fontsize = 9)\n",
    "plt.yticks(fontsize = 9)\n",
    "plt.savefig('D:\\\\MS\\\\World Average Temperature 1980-2020.png', dpi = 600)\n",
    "\n",
    "# plt.xaxis_date()\n",
    "# plt.autoscale(tight=True)\n",
    "# plt.grid(linestyle= '-.', linewidth = 0.3)\n",
    "plt.show()"
   ],
   "metadata": {
    "collapsed": false,
    "pycharm": {
     "name": "#%%\n"
    }
   }
  },
  {
   "cell_type": "code",
   "execution_count": 222,
   "outputs": [
    {
     "data": {
      "text/plain": "count    41.000000\nmean     53.047805\nstd       0.971464\nmin      51.260000\n25%      52.390000\n50%      53.120000\n75%      53.640000\nmax      55.280000\nName: Value, dtype: float64"
     },
     "execution_count": 222,
     "metadata": {},
     "output_type": "execute_result"
    }
   ],
   "source": [
    "height2.describe()"
   ],
   "metadata": {
    "collapsed": false,
    "pycharm": {
     "name": "#%%\n"
    }
   }
  }
 ],
 "metadata": {
  "kernelspec": {
   "display_name": "Python 3",
   "language": "python",
   "name": "python3"
  },
  "language_info": {
   "codemirror_mode": {
    "name": "ipython",
    "version": 2
   },
   "file_extension": ".py",
   "mimetype": "text/x-python",
   "name": "python",
   "nbconvert_exporter": "python",
   "pygments_lexer": "ipython2",
   "version": "2.7.6"
  }
 },
 "nbformat": 4,
 "nbformat_minor": 0
}