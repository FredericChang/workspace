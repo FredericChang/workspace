{
 "cells": [
  {
   "cell_type": "code",
   "execution_count": 93,
   "metadata": {
    "collapsed": true
   },
   "outputs": [],
   "source": [
    "# This Python 3 environment comes with many helpful analytics libraries installed\n",
    "# It is defined by the kaggle/python Docker image: https://github.com/kaggle/docker-python\n",
    "# For example, here's several helpful packages to load\n",
    "\n",
    "import numpy as np # linear algebra\n",
    "import pandas as pd # data processing, CSV file I/O (e.g. pd.read_csv)\n",
    "\n",
    "# Input data files are available in the read-only \"../input/\" directory\n",
    "# For example, running this (by clicking run or pressing Shift+Enter) will list all files under the input directory\n",
    "\n",
    "import os\n",
    "for dirname, _, filenames in os.walk('/kaggle/input'):\n",
    "    for filename in filenames:\n",
    "        print(os.path.join(dirname, filename))\n",
    "\n",
    "# You can write up to 20GB to the current directory (/kaggle/working/) that gets preserved as output when you create a version using \"Save & Run All\"\n",
    "# You can also write temporary files to /kaggle/temp/, but they won't be saved outside of the current session"
   ]
  },
  {
   "cell_type": "code",
   "execution_count": 94,
   "outputs": [
    {
     "name": "stdout",
     "output_type": "stream",
     "text": [
      "\n",
      "\n",
      " Descriptive Statistics \n",
      "\n",
      "               count        mean         std   min     25%    50%    75%    max\n",
      "Age           918.0   53.510893    9.432617  28.0   47.00   54.0   60.0   77.0\n",
      "RestingBP     918.0  132.396514   18.514154   0.0  120.00  130.0  140.0  200.0\n",
      "Cholesterol   918.0  198.799564  109.384145   0.0  173.25  223.0  267.0  603.0\n",
      "FastingBS     918.0    0.233115    0.423046   0.0    0.00    0.0    0.0    1.0\n",
      "MaxHR         918.0  136.809368   25.460334  60.0  120.00  138.0  156.0  202.0\n",
      "Oldpeak       918.0    0.887364    1.066570  -2.6    0.00    0.6    1.5    6.2\n",
      "HeartDisease  918.0    0.553377    0.497414   0.0    0.00    1.0    1.0    1.0 \n",
      "\n",
      "\n",
      "<class 'pandas.core.frame.DataFrame'>\n",
      "RangeIndex: 918 entries, 0 to 917\n",
      "Data columns (total 12 columns):\n",
      " #   Column          Non-Null Count  Dtype  \n",
      "---  ------          --------------  -----  \n",
      " 0   Age             918 non-null    int64  \n",
      " 1   Sex             918 non-null    object \n",
      " 2   ChestPainType   918 non-null    object \n",
      " 3   RestingBP       918 non-null    int64  \n",
      " 4   Cholesterol     918 non-null    int64  \n",
      " 5   FastingBS       918 non-null    int64  \n",
      " 6   RestingECG      918 non-null    object \n",
      " 7   MaxHR           918 non-null    int64  \n",
      " 8   ExerciseAngina  918 non-null    object \n",
      " 9   Oldpeak         918 non-null    float64\n",
      " 10  ST_Slope        918 non-null    object \n",
      " 11  HeartDisease    918 non-null    int64  \n",
      "dtypes: float64(1), int64(6), object(5)\n",
      "memory usage: 86.2+ KB\n",
      "None\n"
     ]
    }
   ],
   "source": [
    "import pandas as pd\n",
    "import warnings\n",
    "warnings.simplefilter(action='ignore', category=FutureWarning)\n",
    "\n",
    "data = pd.read_csv('D:\\CodeProject\\ML\\ML_Learning_Project\\Kaggle\\heart.csv')\n",
    "print('\\n\\n Descriptive Statistics \\n\\n',data.describe().T,'\\n\\n')\n",
    "print(data.info())\n",
    "\n",
    "def IV_calc(data, var):\n",
    "    if data[var].dtypes == 'object':\n",
    "        dataf = data.groupby([var])['HeartDisease'].agg(['count','sum'])\n",
    "        dataf.columns = ['Total','bad']\n",
    "        dataf['good'] = dataf['Total'] - dataf['bad']\n",
    "        dataf['bad_per'] = dataf['bad']/dataf['bad'].sum()\n",
    "        dataf['good_per'] = dataf['good']/dataf['good'].sum()\n",
    "        dataf['I_V'] = (dataf['good_per'] - dataf['bad_per'])*np.log(dataf['good_per']/dataf['bad_per'])\n",
    "        return dataf\n",
    "    else:\n",
    "        data['bin_var'] = pd.qcut(data[var].rank(method='first'),10)\n",
    "        dataf = data.groupby(['bin_var'])['HeartDisease'].agg(['count','sum'])\n",
    "        dataf.columns = ['Total','bad']\n",
    "        dataf['good'] = dataf['Total'] - dataf['bad']\n",
    "        dataf['bad_per'] = dataf['bad']/dataf['bad'].sum()\n",
    "        dataf['good_per'] = dataf['good']/dataf['good'].sum()\n",
    "        dataf['I_V'] = (dataf['good_per'] - dataf['bad_per'])*np.log(dataf['good_per']/dataf['bad_per'])\n",
    "        return dataf\n",
    "\n",
    "# yi是这个分组中响应客户（即取值为1）的数量，yT是全部样本中所有响应客户（即取值为1）的数量 dataf['good_per']\n",
    "# ni是这个分组中未响应客户（即取值为0）的数量，nT是全部样本中所有未响应客户（即取值为0）的数量 dataf['bad_per']\n",
    "# https://www.cnblogs.com/wzdLY/p/9853209.html"
   ],
   "metadata": {
    "collapsed": false,
    "pycharm": {
     "name": "#%%\n"
    }
   }
  },
  {
   "cell_type": "markdown",
   "source": [
    "WOE：\n",
    "\n",
    "WOE的全称是“Weight of Evidence”，即证据权重，WOE是对原始自变量的一种编码形式。要对一个变量进行WOE编码，需要首先把这个变量进行分箱。分箱后，对于第i组，WOE的计算公式如下：\n",
    "\n",
    "yi是这个分组中响应客户（即取值为1）的数量，yT是全部样本中所有响应客户（即取值为1）的数量\n",
    "\n",
    "ni是这个分组中未响应客户（即取值为0）的数量，nT是全部样本中所有未响应客户（即取值为0）的数量\n",
    "\n",
    "\n",
    "IV值：\n",
    "\n",
    "IV的全称是Information Value，用来衡量自变量的预测能力\n",
    "\n",
    "对于分组i的IV值:\n",
    "\n",
    "计算整个变量的IV值，n为变量分组个数:\n",
    "\n",
    "过高的IV,可能有潜在的风险\n",
    "特征分箱越细,IV越高"
   ],
   "metadata": {
    "collapsed": false,
    "pycharm": {
     "name": "#%% md\n"
    }
   }
  },
  {
   "cell_type": "code",
   "execution_count": 95,
   "outputs": [],
   "source": [
    "discrete_columns = []\n",
    "continuous_columns = []\n",
    "\n",
    "for col in data.columns:\n",
    "    if col != 'HeartDisease':\n",
    "        if data[col].dtype == 'object':\n",
    "            discrete_columns.append(col)\n",
    "        else:\n",
    "            continuous_columns.append(col)"
   ],
   "metadata": {
    "collapsed": false,
    "pycharm": {
     "name": "#%%\n"
    }
   }
  },
  {
   "cell_type": "code",
   "execution_count": 96,
   "outputs": [
    {
     "name": "stdout",
     "output_type": "stream",
     "text": [
      "['Sex', 'ChestPainType', 'RestingECG', 'ExerciseAngina', 'ST_Slope']\n"
     ]
    }
   ],
   "source": [
    "print(discrete_columns)"
   ],
   "metadata": {
    "collapsed": false,
    "pycharm": {
     "name": "#%%\n"
    }
   }
  },
  {
   "cell_type": "code",
   "execution_count": 97,
   "outputs": [
    {
     "name": "stdout",
     "output_type": "stream",
     "text": [
      "['Age', 'RestingBP', 'Cholesterol', 'FastingBS', 'MaxHR', 'Oldpeak']\n"
     ]
    }
   ],
   "source": [
    "print(continuous_columns)"
   ],
   "metadata": {
    "collapsed": false,
    "pycharm": {
     "name": "#%%\n"
    }
   }
  },
  {
   "cell_type": "code",
   "execution_count": 98,
   "outputs": [
    {
     "name": "stdout",
     "output_type": "stream",
     "text": [
      "     Total  bad  good   bad_per  good_per       I_V\n",
      "Sex                                                \n",
      "F      193   50   143  0.098425   0.34878  0.316736\n",
      "M      725  458   267  0.901575   0.65122  0.081440\n",
      "               Total  bad  good   bad_per  good_per       I_V\n",
      "ChestPainType                                                \n",
      "ASY              496  392   104  0.771654  0.253659  0.576294\n",
      "ATA              173   24   149  0.047244  0.363415  0.645056\n",
      "NAP              203   72   131  0.141732  0.319512  0.144509\n",
      "TA                46   20    26  0.039370  0.063415  0.011462\n",
      "            Total  bad  good   bad_per  good_per       I_V\n",
      "RestingECG                                                \n",
      "LVH           188  106    82  0.208661   0.20000  0.000367\n",
      "Normal        552  285   267  0.561024   0.65122  0.013447\n",
      "ST            178  117    61  0.230315   0.14878  0.035629\n",
      "                Total  bad  good   bad_per  good_per       I_V\n",
      "ExerciseAngina                                                \n",
      "N                 547  192   355  0.377953  0.865854  0.404444\n",
      "Y                 371  316    55  0.622047  0.134146  0.748481\n",
      "          Total  bad  good   bad_per  good_per       I_V\n",
      "ST_Slope                                                \n",
      "Down         63   49    14  0.096457  0.034146  0.064705\n",
      "Flat        460  381    79  0.750000  0.192683  0.757409\n",
      "Up          395   78   317  0.153543  0.773171  1.001638\n",
      "                Total  bad  good   bad_per  good_per       I_V\n",
      "bin_var                                                       \n",
      "(0.999, 92.7]      92   31    61  0.061024  0.148780  0.078210\n",
      "(92.7, 184.4]      92   28    64  0.055118  0.156098  0.105120\n",
      "(184.4, 276.1]     92   44    48  0.086614  0.117073  0.009178\n",
      "(276.1, 367.8]     91   45    46  0.088583  0.112195  0.005580\n",
      "(367.8, 459.5]     92   45    47  0.088583  0.114634  0.006716\n",
      "(459.5, 551.2]     92   54    38  0.106299  0.092683  0.001866\n",
      "(551.2, 642.9]     91   60    31  0.118110  0.075610  0.018957\n",
      "(642.9, 734.6]     92   70    22  0.137795  0.053659  0.079352\n",
      "(734.6, 826.3]     92   68    24  0.133858  0.058537  0.062301\n",
      "(826.3, 918.0]     92   63    29  0.124016  0.070732  0.029920\n",
      "                Total  bad  good   bad_per  good_per       I_V\n",
      "bin_var                                                       \n",
      "(0.999, 92.7]      92   46    46  0.090551  0.112195  0.004639\n",
      "(92.7, 184.4]      92   50    42  0.098425  0.102439  0.000160\n",
      "(184.4, 276.1]     92   41    51  0.080709  0.124390  0.018896\n",
      "(276.1, 367.8]     91   52    39  0.102362  0.095122  0.000531\n",
      "(367.8, 459.5]     92   46    46  0.090551  0.112195  0.004639\n",
      "(459.5, 551.2]     92   43    49  0.084646  0.119512  0.012027\n",
      "(551.2, 642.9]     91   45    46  0.088583  0.112195  0.005580\n",
      "(642.9, 734.6]     92   65    27  0.127953  0.065854  0.041248\n",
      "(734.6, 826.3]     92   56    36  0.110236  0.087805  0.005103\n",
      "(826.3, 918.0]     92   64    28  0.125984  0.068293  0.035328\n",
      "                Total  bad  good   bad_per  good_per       I_V\n",
      "bin_var                                                       \n",
      "(0.999, 92.7]      92   84     8  0.165354  0.019512  0.311672\n",
      "(92.7, 184.4]      92   75    17  0.147638  0.041463  0.134836\n",
      "(184.4, 276.1]     92   38    54  0.074803  0.131707  0.032192\n",
      "(276.1, 367.8]     91   36    55  0.070866  0.134146  0.040382\n",
      "(367.8, 459.5]     92   38    54  0.074803  0.131707  0.032192\n",
      "(459.5, 551.2]     92   44    48  0.086614  0.117073  0.009178\n",
      "(551.2, 642.9]     91   40    51  0.078740  0.124390  0.020874\n",
      "(642.9, 734.6]     92   47    45  0.092520  0.109756  0.002945\n",
      "(734.6, 826.3]     92   55    37  0.108268  0.090244  0.003282\n",
      "(826.3, 918.0]     92   51    41  0.100394  0.100000  0.000002\n",
      "                Total  bad  good   bad_per  good_per       I_V\n",
      "bin_var                                                       \n",
      "(0.999, 92.7]      92   32    60  0.062992  0.146341  0.070258\n",
      "(92.7, 184.4]      92   29    63  0.057087  0.153659  0.095622\n",
      "(184.4, 276.1]     92   31    61  0.061024  0.148780  0.078210\n",
      "(276.1, 367.8]     91   72    19  0.141732  0.046341  0.106638\n",
      "(367.8, 459.5]     92   63    29  0.124016  0.070732  0.029920\n",
      "(459.5, 551.2]     92   43    49  0.084646  0.119512  0.012027\n",
      "(551.2, 642.9]     91   38    53  0.074803  0.129268  0.029794\n",
      "(642.9, 734.6]     92   53    39  0.104331  0.095122  0.000851\n",
      "(734.6, 826.3]     92   88     4  0.173228  0.009756  0.470264\n",
      "(826.3, 918.0]     92   59    33  0.116142  0.080488  0.013074\n",
      "                Total  bad  good   bad_per  good_per       I_V\n",
      "bin_var                                                       \n",
      "(0.999, 92.7]      92   74    18  0.145669  0.043902  0.122056\n",
      "(92.7, 184.4]      92   73    19  0.143701  0.046341  0.110181\n",
      "(184.4, 276.1]     92   67    25  0.131890  0.060976  0.054710\n",
      "(276.1, 367.8]     91   69    22  0.135827  0.053659  0.076313\n",
      "(367.8, 459.5]     92   48    44  0.094488  0.107317  0.001633\n",
      "(459.5, 551.2]     92   47    45  0.092520  0.109756  0.002945\n",
      "(551.2, 642.9]     91   50    41  0.098425  0.100000  0.000025\n",
      "(642.9, 734.6]     92   33    59  0.064961  0.143902  0.062787\n",
      "(734.6, 826.3]     92   31    61  0.061024  0.148780  0.078210\n",
      "(826.3, 918.0]     92   16    76  0.031496  0.185366  0.272729\n",
      "                Total  bad  good   bad_per  good_per       I_V\n",
      "bin_var                                                       \n",
      "(0.999, 92.7]      92   23    69  0.045276  0.168293  0.161514\n",
      "(92.7, 184.4]      92   18    74  0.035433  0.180488  0.236152\n",
      "(184.4, 276.1]     92   61    31  0.120079  0.075610  0.020570\n",
      "(276.1, 367.8]     91   27    64  0.053150  0.156098  0.110913\n",
      "(367.8, 459.5]     92   31    61  0.061024  0.148780  0.078210\n",
      "(459.5, 551.2]     92   53    39  0.104331  0.095122  0.000851\n",
      "(551.2, 642.9]     91   66    25  0.129921  0.060976  0.052154\n",
      "(642.9, 734.6]     92   70    22  0.137795  0.053659  0.079352\n",
      "(734.6, 826.3]     92   75    17  0.147638  0.041463  0.134836\n",
      "(826.3, 918.0]     92   84     8  0.165354  0.019512  0.311672\n",
      "[(0.398, 'Sex', dtype('O')), (1.377, 'ChestPainType', dtype('O')), (0.049, 'RestingECG', dtype('O')), (1.153, 'ExerciseAngina', dtype('O')), (1.824, 'ST_Slope', dtype('O')), (0.397, 'Age', dtype('int64')), (0.128, 'RestingBP', dtype('int64')), (0.588, 'Cholesterol', dtype('int64')), (0.907, 'FastingBS', dtype('int64')), (0.782, 'MaxHR', dtype('int64')), (1.186, 'Oldpeak', dtype('float64'))]\n"
     ]
    }
   ],
   "source": [
    "total_columns = discrete_columns + continuous_columns\n",
    "Iv_list = []\n",
    "for col in total_columns:\n",
    "    assigned_data = IV_calc(data=data, var=col)\n",
    "    print(assigned_data)\n",
    "    iv_val = round(assigned_data['I_V'].sum(),3)\n",
    "\n",
    "    dt_type = data[col].dtypes\n",
    "    Iv_list.append((iv_val, col, dt_type))\n",
    "print(Iv_list)"
   ],
   "metadata": {
    "collapsed": false,
    "pycharm": {
     "name": "#%%\n"
    }
   }
  },
  {
   "cell_type": "code",
   "execution_count": 99,
   "outputs": [
    {
     "name": "stdout",
     "output_type": "stream",
     "text": [
      "ST_Slope : 1.824\n",
      "ChestPainType : 1.377\n",
      "Oldpeak : 1.186\n",
      "ExerciseAngina : 1.153\n",
      "FastingBS : 0.907\n",
      "MaxHR : 0.782\n",
      "Cholesterol : 0.588\n",
      "Sex : 0.398\n",
      "Age : 0.397\n",
      "RestingBP : 0.128\n",
      "RestingECG : 0.049\n"
     ]
    }
   ],
   "source": [
    "Iv_list = sorted(Iv_list, reverse=True)\n",
    "\n",
    "for iv in Iv_list:\n",
    "    print(iv[1],':',iv[0])"
   ],
   "metadata": {
    "collapsed": false,
    "pycharm": {
     "name": "#%%\n"
    }
   }
  },
  {
   "cell_type": "code",
   "execution_count": 100,
   "outputs": [
    {
     "data": {
      "text/plain": "     sex_F  sex_M  chest_p_t_ASY  chest_p_t_ATA  chest_p_t_NAP  chest_p_t_TA  \\\n0        0      1              0              1              0             0   \n1        1      0              0              0              1             0   \n2        0      1              0              1              0             0   \n3        1      0              1              0              0             0   \n4        0      1              0              0              1             0   \n..     ...    ...            ...            ...            ...           ...   \n913      0      1              0              0              0             1   \n914      0      1              1              0              0             0   \n915      0      1              1              0              0             0   \n916      1      0              0              1              0             0   \n917      0      1              0              0              1             0   \n\n     rest_ecg_LVH  rest_ecg_Normal  rest_ecg_ST  angina_N  ...  st_slope_Down  \\\n0               0                1            0         1  ...              0   \n1               0                1            0         1  ...              0   \n2               0                0            1         1  ...              0   \n3               0                1            0         0  ...              0   \n4               0                1            0         1  ...              0   \n..            ...              ...          ...       ...  ...            ...   \n913             0                1            0         1  ...              0   \n914             0                1            0         1  ...              0   \n915             0                1            0         0  ...              0   \n916             1                0            0         1  ...              0   \n917             0                1            0         1  ...              0   \n\n     st_slope_Flat  st_slope_Up  Age  RestingBP  Cholesterol  FastingBS  \\\n0                0            1   40        140          289          0   \n1                1            0   49        160          180          0   \n2                0            1   37        130          283          0   \n3                1            0   48        138          214          0   \n4                0            1   54        150          195          0   \n..             ...          ...  ...        ...          ...        ...   \n913              1            0   45        110          264          0   \n914              1            0   68        144          193          1   \n915              1            0   57        130          131          0   \n916              1            0   57        130          236          0   \n917              0            1   38        138          175          0   \n\n     MaxHR  Oldpeak  HeartDisease  \n0      172      0.0             0  \n1      156      1.0             1  \n2       98      0.0             0  \n3      108      1.5             1  \n4      122      0.0             0  \n..     ...      ...           ...  \n913    132      1.2             1  \n914    141      3.4             1  \n915    115      1.2             1  \n916    174      0.0             1  \n917    173      0.0             0  \n\n[918 rows x 21 columns]",
      "text/html": "<div>\n<style scoped>\n    .dataframe tbody tr th:only-of-type {\n        vertical-align: middle;\n    }\n\n    .dataframe tbody tr th {\n        vertical-align: top;\n    }\n\n    .dataframe thead th {\n        text-align: right;\n    }\n</style>\n<table border=\"1\" class=\"dataframe\">\n  <thead>\n    <tr style=\"text-align: right;\">\n      <th></th>\n      <th>sex_F</th>\n      <th>sex_M</th>\n      <th>chest_p_t_ASY</th>\n      <th>chest_p_t_ATA</th>\n      <th>chest_p_t_NAP</th>\n      <th>chest_p_t_TA</th>\n      <th>rest_ecg_LVH</th>\n      <th>rest_ecg_Normal</th>\n      <th>rest_ecg_ST</th>\n      <th>angina_N</th>\n      <th>...</th>\n      <th>st_slope_Down</th>\n      <th>st_slope_Flat</th>\n      <th>st_slope_Up</th>\n      <th>Age</th>\n      <th>RestingBP</th>\n      <th>Cholesterol</th>\n      <th>FastingBS</th>\n      <th>MaxHR</th>\n      <th>Oldpeak</th>\n      <th>HeartDisease</th>\n    </tr>\n  </thead>\n  <tbody>\n    <tr>\n      <th>0</th>\n      <td>0</td>\n      <td>1</td>\n      <td>0</td>\n      <td>1</td>\n      <td>0</td>\n      <td>0</td>\n      <td>0</td>\n      <td>1</td>\n      <td>0</td>\n      <td>1</td>\n      <td>...</td>\n      <td>0</td>\n      <td>0</td>\n      <td>1</td>\n      <td>40</td>\n      <td>140</td>\n      <td>289</td>\n      <td>0</td>\n      <td>172</td>\n      <td>0.0</td>\n      <td>0</td>\n    </tr>\n    <tr>\n      <th>1</th>\n      <td>1</td>\n      <td>0</td>\n      <td>0</td>\n      <td>0</td>\n      <td>1</td>\n      <td>0</td>\n      <td>0</td>\n      <td>1</td>\n      <td>0</td>\n      <td>1</td>\n      <td>...</td>\n      <td>0</td>\n      <td>1</td>\n      <td>0</td>\n      <td>49</td>\n      <td>160</td>\n      <td>180</td>\n      <td>0</td>\n      <td>156</td>\n      <td>1.0</td>\n      <td>1</td>\n    </tr>\n    <tr>\n      <th>2</th>\n      <td>0</td>\n      <td>1</td>\n      <td>0</td>\n      <td>1</td>\n      <td>0</td>\n      <td>0</td>\n      <td>0</td>\n      <td>0</td>\n      <td>1</td>\n      <td>1</td>\n      <td>...</td>\n      <td>0</td>\n      <td>0</td>\n      <td>1</td>\n      <td>37</td>\n      <td>130</td>\n      <td>283</td>\n      <td>0</td>\n      <td>98</td>\n      <td>0.0</td>\n      <td>0</td>\n    </tr>\n    <tr>\n      <th>3</th>\n      <td>1</td>\n      <td>0</td>\n      <td>1</td>\n      <td>0</td>\n      <td>0</td>\n      <td>0</td>\n      <td>0</td>\n      <td>1</td>\n      <td>0</td>\n      <td>0</td>\n      <td>...</td>\n      <td>0</td>\n      <td>1</td>\n      <td>0</td>\n      <td>48</td>\n      <td>138</td>\n      <td>214</td>\n      <td>0</td>\n      <td>108</td>\n      <td>1.5</td>\n      <td>1</td>\n    </tr>\n    <tr>\n      <th>4</th>\n      <td>0</td>\n      <td>1</td>\n      <td>0</td>\n      <td>0</td>\n      <td>1</td>\n      <td>0</td>\n      <td>0</td>\n      <td>1</td>\n      <td>0</td>\n      <td>1</td>\n      <td>...</td>\n      <td>0</td>\n      <td>0</td>\n      <td>1</td>\n      <td>54</td>\n      <td>150</td>\n      <td>195</td>\n      <td>0</td>\n      <td>122</td>\n      <td>0.0</td>\n      <td>0</td>\n    </tr>\n    <tr>\n      <th>...</th>\n      <td>...</td>\n      <td>...</td>\n      <td>...</td>\n      <td>...</td>\n      <td>...</td>\n      <td>...</td>\n      <td>...</td>\n      <td>...</td>\n      <td>...</td>\n      <td>...</td>\n      <td>...</td>\n      <td>...</td>\n      <td>...</td>\n      <td>...</td>\n      <td>...</td>\n      <td>...</td>\n      <td>...</td>\n      <td>...</td>\n      <td>...</td>\n      <td>...</td>\n      <td>...</td>\n    </tr>\n    <tr>\n      <th>913</th>\n      <td>0</td>\n      <td>1</td>\n      <td>0</td>\n      <td>0</td>\n      <td>0</td>\n      <td>1</td>\n      <td>0</td>\n      <td>1</td>\n      <td>0</td>\n      <td>1</td>\n      <td>...</td>\n      <td>0</td>\n      <td>1</td>\n      <td>0</td>\n      <td>45</td>\n      <td>110</td>\n      <td>264</td>\n      <td>0</td>\n      <td>132</td>\n      <td>1.2</td>\n      <td>1</td>\n    </tr>\n    <tr>\n      <th>914</th>\n      <td>0</td>\n      <td>1</td>\n      <td>1</td>\n      <td>0</td>\n      <td>0</td>\n      <td>0</td>\n      <td>0</td>\n      <td>1</td>\n      <td>0</td>\n      <td>1</td>\n      <td>...</td>\n      <td>0</td>\n      <td>1</td>\n      <td>0</td>\n      <td>68</td>\n      <td>144</td>\n      <td>193</td>\n      <td>1</td>\n      <td>141</td>\n      <td>3.4</td>\n      <td>1</td>\n    </tr>\n    <tr>\n      <th>915</th>\n      <td>0</td>\n      <td>1</td>\n      <td>1</td>\n      <td>0</td>\n      <td>0</td>\n      <td>0</td>\n      <td>0</td>\n      <td>1</td>\n      <td>0</td>\n      <td>0</td>\n      <td>...</td>\n      <td>0</td>\n      <td>1</td>\n      <td>0</td>\n      <td>57</td>\n      <td>130</td>\n      <td>131</td>\n      <td>0</td>\n      <td>115</td>\n      <td>1.2</td>\n      <td>1</td>\n    </tr>\n    <tr>\n      <th>916</th>\n      <td>1</td>\n      <td>0</td>\n      <td>0</td>\n      <td>1</td>\n      <td>0</td>\n      <td>0</td>\n      <td>1</td>\n      <td>0</td>\n      <td>0</td>\n      <td>1</td>\n      <td>...</td>\n      <td>0</td>\n      <td>1</td>\n      <td>0</td>\n      <td>57</td>\n      <td>130</td>\n      <td>236</td>\n      <td>0</td>\n      <td>174</td>\n      <td>0.0</td>\n      <td>1</td>\n    </tr>\n    <tr>\n      <th>917</th>\n      <td>0</td>\n      <td>1</td>\n      <td>0</td>\n      <td>0</td>\n      <td>1</td>\n      <td>0</td>\n      <td>0</td>\n      <td>1</td>\n      <td>0</td>\n      <td>1</td>\n      <td>...</td>\n      <td>0</td>\n      <td>0</td>\n      <td>1</td>\n      <td>38</td>\n      <td>138</td>\n      <td>175</td>\n      <td>0</td>\n      <td>173</td>\n      <td>0.0</td>\n      <td>0</td>\n    </tr>\n  </tbody>\n</table>\n<p>918 rows × 21 columns</p>\n</div>"
     },
     "execution_count": 100,
     "metadata": {},
     "output_type": "execute_result"
    }
   ],
   "source": [
    "dummy_sex = pd.get_dummies(data['Sex'], prefix='sex')\n",
    "dummy_CPT = pd.get_dummies(data['ChestPainType'], prefix='chest_p_t')\n",
    "dummy_RECG = pd.get_dummies(data['RestingECG'], prefix='rest_ecg')\n",
    "dummy_angina = pd.get_dummies(data['ExerciseAngina'], prefix='angina')\n",
    "dummy_STslope = pd.get_dummies(data['ST_Slope'], prefix = 'st_slope')\n",
    "\n",
    "data_continuous = data[continuous_columns]\n",
    "data_new = pd.concat([dummy_sex,dummy_CPT,dummy_RECG,dummy_angina,dummy_STslope,data_continuous, data['HeartDisease']],axis=1)\n",
    "data_new"
   ],
   "metadata": {
    "collapsed": false,
    "pycharm": {
     "name": "#%%\n"
    }
   }
  },
  {
   "cell_type": "markdown",
   "source": [
    "Split data into 70% training and 30% testing with random state set to 42 to create reproducible results.\n",
    "\n",
    "One dummy variable from each discrete column can be removed by default.\n",
    "\n",
    "Insignificant columns can be removed if they are either insignificant or multi-collinear."
   ],
   "metadata": {
    "collapsed": false,
    "pycharm": {
     "name": "#%% md\n"
    }
   }
  },
  {
   "cell_type": "code",
   "execution_count": 101,
   "outputs": [],
   "source": [
    "from sklearn.model_selection import train_test_split\n",
    "x_train, x_test, y_train, y_test = train_test_split(data_new.drop(['HeartDisease'],axis=1),data_new['HeartDisease'], train_size = 0.7, random_state=42)\n",
    "y_train = pd.DataFrame(y_train)\n",
    "y_test = pd.DataFrame(y_test)\n",
    "\n",
    "remove_cols_extra_dummy = ['sex_F','chest_p_t_ASY','rest_ecg_LVH','angina_N','st_slope_Down']\n",
    "remove_cols_insig = []\n",
    "remove_cols = list(set(remove_cols_extra_dummy+remove_cols_insig))"
   ],
   "metadata": {
    "collapsed": false,
    "pycharm": {
     "name": "#%%\n"
    }
   }
  },
  {
   "cell_type": "markdown",
   "source": [
    "Summary of information relating to VIF (Variance Inflation Factors) and IV (Independent Variables)"
   ],
   "metadata": {
    "collapsed": false,
    "pycharm": {
     "name": "#%% md\n"
    }
   }
  },
  {
   "cell_type": "code",
   "execution_count": 102,
   "outputs": [
    {
     "name": "stdout",
     "output_type": "stream",
     "text": [
      "Optimization terminated successfully.\n",
      "         Current function value: 0.336117\n",
      "         Iterations 7\n",
      "                           Logit Regression Results                           \n",
      "==============================================================================\n",
      "Dep. Variable:           HeartDisease   No. Observations:                  642\n",
      "Model:                          Logit   Df Residuals:                      626\n",
      "Method:                           MLE   Df Model:                           15\n",
      "Date:                Sat, 01 Jan 2022   Pseudo R-squ.:                  0.5133\n",
      "Time:                        08:42:04   Log-Likelihood:                -215.79\n",
      "converged:                       True   LL-Null:                       -443.35\n",
      "Covariance Type:            nonrobust   LLR p-value:                 1.705e-87\n",
      "===================================================================================\n",
      "                      coef    std err          z      P>|z|      [0.025      0.975]\n",
      "-----------------------------------------------------------------------------------\n",
      "const              -1.4345      1.697     -0.845      0.398      -4.761       1.892\n",
      "sex_M               1.1918      0.317      3.755      0.000       0.570       1.814\n",
      "chest_p_t_ATA      -1.4708      0.383     -3.844      0.000      -2.221      -0.721\n",
      "chest_p_t_NAP      -1.5305      0.317     -4.823      0.000      -2.153      -0.909\n",
      "chest_p_t_TA       -1.2436      0.578     -2.152      0.031      -2.376      -0.111\n",
      "rest_ecg_Normal    -0.1255      0.318     -0.395      0.693      -0.748       0.497\n",
      "rest_ecg_ST        -0.4125      0.404     -1.021      0.307      -1.205       0.380\n",
      "angina_Y            1.0158      0.288      3.527      0.000       0.451       1.580\n",
      "st_slope_Flat       1.5125      0.517      2.925      0.003       0.499       2.526\n",
      "st_slope_Up        -0.8958      0.545     -1.642      0.101      -1.965       0.173\n",
      "Age                 0.0167      0.016      1.050      0.294      -0.015       0.048\n",
      "RestingBP           0.0013      0.007      0.182      0.856      -0.012       0.015\n",
      "Cholesterol        -0.0040      0.001     -3.059      0.002      -0.007      -0.001\n",
      "FastingBS           1.0431      0.326      3.200      0.001       0.404       1.682\n",
      "MaxHR              -0.0014      0.006     -0.229      0.819      -0.014       0.011\n",
      "Oldpeak             0.4534      0.132      3.430      0.001       0.194       0.713\n",
      "===================================================================================\n",
      "sex_M 1.113\n",
      "chest_p_t_ATA 1.5\n",
      "chest_p_t_NAP 1.265\n",
      "chest_p_t_TA 1.128\n",
      "rest_ecg_Normal 1.757\n",
      "rest_ecg_ST 1.72\n",
      "angina_Y 1.631\n",
      "st_slope_Flat 4.938\n",
      "st_slope_Up 5.972\n",
      "Age 1.483\n",
      "RestingBP 1.147\n",
      "Cholesterol 1.235\n",
      "FastingBS 1.157\n",
      "MaxHR 1.592\n",
      "Oldpeak 1.498\n"
     ]
    }
   ],
   "source": [
    "import statsmodels.api as sm\n",
    "\n",
    "logistic_model = sm.Logit(y_train, sm.add_constant(x_train.drop(remove_cols,axis=1))).fit()\n",
    "print(logistic_model.summary())\n",
    "\n",
    "# 以上为summary的结果表，其中具体的意思分别为：\n",
    "# coef: 系数的估计值。\n",
    "# std err: 反映了系数的精度水平。它越低，准确度就越高。\n",
    "# t：t统计量的值。这是衡量系数在统计上有多重要的一种方法。\n",
    "# P>|z| : 是你的假定值。p值小于0.05被认为有统计学意义。\n",
    "# [0.025, 0.975]: 置信区间。\n",
    "# https://www.datarobot.com/blog/ordinary-least-squares-in-python/\n",
    "cnames = x_train.drop(remove_cols, axis=1).columns\n",
    "for i in np.arange(0,len(cnames)):\n",
    "    xvars = list(cnames)\n",
    "    yvar = xvars.pop(i)\n",
    "    mod = sm.OLS(x_train.drop(remove_cols, axis=1)[yvar], sm.add_constant(x_train.drop(remove_cols, axis=1)[xvars]))\n",
    "    res = mod.fit()\n",
    "    vif = 1/(1-res.rsquared)\n",
    "    print(yvar, round(vif,3))\n",
    "\n",
    "y_pred = pd.DataFrame(logistic_model.predict(sm.add_constant(x_train.drop(remove_cols, axis=1))))\n",
    "y_pred.columns = ['probs']\n",
    "both = pd.concat([y_train, y_pred], axis=1)\n",
    "\n",
    "zeros = both[['HeartDisease','probs']][both['HeartDisease']==0]\n",
    "ones = both[['HeartDisease','probs']][both['HeartDisease']==1]"
   ],
   "metadata": {
    "collapsed": false,
    "pycharm": {
     "name": "#%%\n"
    }
   }
  },
  {
   "cell_type": "markdown",
   "source": [
    "Pair is concordant if probability against the 1 class is higher than the 0. Pair is discordant if probability against the 1 class is less than the 0. If both probabilities are the same, they are a tied pair.\n",
    "\n",
    "C-Statistic indicates the performance of a model. A value >= 0.7 indicates a good model."
   ],
   "metadata": {
    "collapsed": false,
    "pycharm": {
     "name": "#%% md\n"
    }
   }
  },
  {
   "cell_type": "code",
   "execution_count": 103,
   "outputs": [
    {
     "name": "stdout",
     "output_type": "stream",
     "text": [
      "0.9279889183705322\n"
     ]
    }
   ],
   "source": [
    "def df_crossjoin(df1,df2,**kwargs):\n",
    "    df1['_tmpkey'] = 1\n",
    "    df2['_tmpkey'] = 1\n",
    "    res = pd.merge(df1,df2,on='_tmpkey',**kwargs).drop('_tmpkey',axis=1)\n",
    "    res.index = pd.MultiIndex.from_product((df1.index, df2.index))\n",
    "    df1.drop('_tmpkey',axis=1,inplace=True)\n",
    "    df2.drop('_tmpkey', axis=1, inplace=True)\n",
    "    return res\n",
    "\n",
    "joined_data = df_crossjoin(ones, zeros)\n",
    "joined_data['concordant_pair'] = 0\n",
    "joined_data.loc[joined_data['probs_x']>joined_data['probs_y'],'concordant_pair'] = 1\n",
    "joined_data['discordant_pair'] = 0\n",
    "joined_data.loc[joined_data['probs_x']<joined_data['probs_y'],'discordant_pair'] = 1\n",
    "joined_data['tied_pair'] = 0\n",
    "joined_data.loc[joined_data['probs_x']==joined_data['probs_y'],'tied_pair'] = 1\n",
    "\n",
    "p_conc = (sum(joined_data['concordant_pair'])*1)/(joined_data.shape[0])\n",
    "p_disc = (sum(joined_data['discordant_pair'])*1)/(joined_data.shape[0])\n",
    "c_statistic = 0.5 + (p_conc-p_disc)/2\n",
    "\n",
    "print(c_statistic)"
   ],
   "metadata": {
    "collapsed": false,
    "pycharm": {
     "name": "#%%\n"
    }
   }
  },
  {
   "cell_type": "markdown",
   "source": [
    "AUC is 0.93 indicating an excellent ability to diagnose patients with and without Heart Disease.\n",
    "\n",
    "A threshold probability between classes is optimal at 0.5 producing the following test results:\n",
    "\n",
    "Test Accuracy: 0.88\n",
    "\n",
    "Precision: 0.917\n",
    "\n",
    "Recall: 0.878\n",
    "\n",
    "F1 Score:0.897"
   ],
   "metadata": {
    "collapsed": false,
    "pycharm": {
     "name": "#%% md\n"
    }
   }
  },
  {
   "cell_type": "code",
   "execution_count": 104,
   "outputs": [
    {
     "data": {
      "text/plain": "<Figure size 432x288 with 1 Axes>",
      "image/png": "[encoded data removed]"
     },
     "metadata": {
      "needs_background": "light"
     },
     "output_type": "display_data"
    },
    {
     "name": "stdout",
     "output_type": "stream",
     "text": [
      "Threshold: 0.0 Train Accuracy: 0.5358\n",
      "Threshold: 0.1 Train Accuracy: 0.7741\n",
      "Threshold: 0.2 Train Accuracy: 0.8333\n",
      "Threshold: 0.3 Train Accuracy: 0.852\n",
      "Threshold: 0.4 Train Accuracy: 0.8567\n",
      "Threshold: 0.5 Train Accuracy: 0.8614\n",
      "Threshold: 0.6 Train Accuracy: 0.8489\n",
      "Threshold: 0.7 Train Accuracy: 0.8411\n",
      "Threshold: 0.8 Train Accuracy: 0.7991\n",
      "Threshold: 0.9 Train Accuracy: 0.7165\n",
      "\n",
      "\n",
      "Train Confusion Matrix Predicted    0    1\n",
      "Actual             \n",
      "0          248   50\n",
      "1           39  305\n",
      "\n",
      "\n",
      "Test Confusion Matrix \n",
      " Predicted   0    1\n",
      "Actual            \n",
      "0          99   13\n",
      "1          20  144\n",
      "\n",
      "\n",
      "Test Accuracy: 0.8804\n",
      "Precision: 0.917\n",
      "Recall: 0.878\n",
      "F1 Score: 0.897\n"
     ]
    }
   ],
   "source": [
    "import matplotlib.pyplot as plt\n",
    "from sklearn import metrics\n",
    "from sklearn.metrics import auc, accuracy_score\n",
    "\n",
    "fpr, tpr, thresholds = metrics.roc_curve(both['HeartDisease'],both['probs'], pos_label = 1)\n",
    "roc_auc = auc(fpr, tpr)\n",
    "plt.figure()\n",
    "lw=2\n",
    "plt.plot(fpr, tpr, color='darkorange',lw=lw, label='ROC Curve (area = %0.2f)' % roc_auc)\n",
    "plt.plot([0,1],[0,1],color='navy',lw=lw, linestyle = '--')\n",
    "plt.xlim([0.0,1.0])\n",
    "plt.ylim([0.0,1.05])\n",
    "plt.xlabel('False Positive Rate (1-Specificity)')\n",
    "plt.ylabel('True Positive Rate')\n",
    "plt.title('ROC Curve - Heart Disease')\n",
    "plt.legend(loc='lower right')\n",
    "plt.show()\n",
    "\n",
    "for i in list(np.arange(0,1,0.1)):\n",
    "    both['y_pred'] = 0\n",
    "    both.loc[both['probs']>i,'y_pred'] = 1\n",
    "    print('Threshold:',round(i,2),'Train Accuracy:',round(accuracy_score(both['HeartDisease'],both['y_pred']),4))\n",
    "\n",
    "both['y_pred'] = 0\n",
    "both.loc[both['probs']>0.5,'y_pred'] = 1\n",
    "print('\\n\\nTrain Confusion Matrix', pd.crosstab(both['HeartDisease'],both['y_pred'],rownames = ['Actual'], colnames = ['Predicted']))\n",
    "\n",
    "y_pred_test = pd.DataFrame(logistic_model.predict(sm.add_constant(x_test.drop(remove_cols,axis=1))))\n",
    "y_pred_test.columns = ['probs']\n",
    "both_test = pd.concat([y_test,y_pred_test],axis=1)\n",
    "both_test['y_pred'] = 0\n",
    "both_test.loc[both_test['probs']>0.5, 'y_pred'] = 1\n",
    "\n",
    "test_crosstab = pd.crosstab(both_test['HeartDisease'],both_test['y_pred'],rownames = ['Actual'], colnames = ['Predicted'])\n",
    "precision = round(test_crosstab[1][1] / (test_crosstab[1][1] + test_crosstab[1][0]),3)\n",
    "recall =round(test_crosstab[1][1] / (test_crosstab[1][1] + test_crosstab[0][1]),3)\n",
    "f_score = round(2*(precision*recall)/(precision+recall),3)\n",
    "\n",
    "\n",
    "print('\\n\\nTest Confusion Matrix \\n', test_crosstab)\n",
    "print('\\n\\nTest Accuracy:', round(accuracy_score(both_test['HeartDisease'],both_test['y_pred']),4))\n",
    "print('Precision:',precision)\n",
    "print('Recall:',recall)\n",
    "print('F1 Score:', f_score)"
   ],
   "metadata": {
    "collapsed": false,
    "pycharm": {
     "name": "#%%\n"
    }
   }
  }
 ],
 "metadata": {
  "kernelspec": {
   "display_name": "Python 3",
   "language": "python",
   "name": "python3"
  },
  "language_info": {
   "codemirror_mode": {
    "name": "ipython",
    "version": 2
   },
   "file_extension": ".py",
   "mimetype": "text/x-python",
   "name": "python",
   "nbconvert_exporter": "python",
   "pygments_lexer": "ipython2",
   "version": "2.7.6"
  }
 },
 "nbformat": 4,
 "nbformat_minor": 0
}